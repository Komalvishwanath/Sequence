{
 "cells": [
  {
   "cell_type": "code",
   "execution_count": 1,
   "metadata": {
    "_cell_guid": "b1076dfc-b9ad-4769-8c92-a6c4dae69d19",
    "_uuid": "8f2839f25d086af736a60e9eeb907d3b93b6e0e5",
    "execution": {
     "iopub.execute_input": "2023-01-12T06:36:09.677757Z",
     "iopub.status.busy": "2023-01-12T06:36:09.677374Z",
     "iopub.status.idle": "2023-01-12T06:36:16.175032Z",
     "shell.execute_reply": "2023-01-12T06:36:16.173890Z",
     "shell.execute_reply.started": "2023-01-12T06:36:09.677679Z"
    }
   },
   "outputs": [],
   "source": [
    "# Import necessary libraries\n",
    "import tensorflow as tf\n",
    "import numpy as np\n",
    "import pandas as pd\n",
    "import matplotlib.pyplot as plt\n",
    "from sklearn.model_selection import train_test_split\n",
    "from tensorflow.keras import Model\n",
    "from tensorflow.keras.layers import Input, Embedding, Dense"
   ]
  },
  {
   "cell_type": "markdown",
   "metadata": {},
   "source": [
    "\n",
    "\n",
    "# Loading the data"
   ]
  },
  {
   "cell_type": "code",
   "execution_count": 2,
   "metadata": {
    "execution": {
     "iopub.execute_input": "2023-01-12T06:36:16.178303Z",
     "iopub.status.busy": "2023-01-12T06:36:16.177305Z",
     "iopub.status.idle": "2023-01-12T06:36:16.895116Z",
     "shell.execute_reply": "2023-01-12T06:36:16.894096Z",
     "shell.execute_reply.started": "2023-01-12T06:36:16.178266Z"
    }
   },
   "outputs": [],
   "source": [
    "df = pd.read_csv(r'C:\\Users\\vishw\\Downloads\\ner_dataset (1).csv', encoding='unicode_escape', usecols=['Sentence #','Word','Tag'])"
   ]
  },
  {
   "cell_type": "code",
   "execution_count": 3,
   "metadata": {
    "execution": {
     "iopub.execute_input": "2023-01-12T06:36:16.896957Z",
     "iopub.status.busy": "2023-01-12T06:36:16.896517Z",
     "iopub.status.idle": "2023-01-12T06:36:17.029733Z",
     "shell.execute_reply": "2023-01-12T06:36:17.028512Z",
     "shell.execute_reply.started": "2023-01-12T06:36:16.896920Z"
    }
   },
   "outputs": [
    {
     "name": "stdout",
     "output_type": "stream",
     "text": [
      "<class 'pandas.core.frame.DataFrame'>\n",
      "RangeIndex: 99998 entries, 0 to 99997\n",
      "Data columns (total 3 columns):\n",
      " #   Column      Non-Null Count  Dtype \n",
      "---  ------      --------------  ----- \n",
      " 0   Sentence #  4543 non-null   object\n",
      " 1   Word        99998 non-null  object\n",
      " 2   Tag         99998 non-null  object\n",
      "dtypes: object(3)\n",
      "memory usage: 2.3+ MB\n"
     ]
    }
   ],
   "source": [
    "df.info()"
   ]
  },
  {
   "cell_type": "code",
   "execution_count": 4,
   "metadata": {
    "execution": {
     "iopub.execute_input": "2023-01-12T06:36:17.033235Z",
     "iopub.status.busy": "2023-01-12T06:36:17.032813Z",
     "iopub.status.idle": "2023-01-12T06:36:17.051067Z",
     "shell.execute_reply": "2023-01-12T06:36:17.049895Z",
     "shell.execute_reply.started": "2023-01-12T06:36:17.033192Z"
    }
   },
   "outputs": [
    {
     "data": {
      "text/html": [
       "<div>\n",
       "<style scoped>\n",
       "    .dataframe tbody tr th:only-of-type {\n",
       "        vertical-align: middle;\n",
       "    }\n",
       "\n",
       "    .dataframe tbody tr th {\n",
       "        vertical-align: top;\n",
       "    }\n",
       "\n",
       "    .dataframe thead th {\n",
       "        text-align: right;\n",
       "    }\n",
       "</style>\n",
       "<table border=\"1\" class=\"dataframe\">\n",
       "  <thead>\n",
       "    <tr style=\"text-align: right;\">\n",
       "      <th></th>\n",
       "      <th>Sentence #</th>\n",
       "      <th>Word</th>\n",
       "      <th>Tag</th>\n",
       "    </tr>\n",
       "  </thead>\n",
       "  <tbody>\n",
       "    <tr>\n",
       "      <th>0</th>\n",
       "      <td>Sentence: 1</td>\n",
       "      <td>Thousands</td>\n",
       "      <td>O</td>\n",
       "    </tr>\n",
       "    <tr>\n",
       "      <th>1</th>\n",
       "      <td>NaN</td>\n",
       "      <td>of</td>\n",
       "      <td>O</td>\n",
       "    </tr>\n",
       "    <tr>\n",
       "      <th>2</th>\n",
       "      <td>NaN</td>\n",
       "      <td>demonstrators</td>\n",
       "      <td>O</td>\n",
       "    </tr>\n",
       "    <tr>\n",
       "      <th>3</th>\n",
       "      <td>NaN</td>\n",
       "      <td>have</td>\n",
       "      <td>O</td>\n",
       "    </tr>\n",
       "    <tr>\n",
       "      <th>4</th>\n",
       "      <td>NaN</td>\n",
       "      <td>marched</td>\n",
       "      <td>O</td>\n",
       "    </tr>\n",
       "  </tbody>\n",
       "</table>\n",
       "</div>"
      ],
      "text/plain": [
       "    Sentence #           Word Tag\n",
       "0  Sentence: 1      Thousands   O\n",
       "1          NaN             of   O\n",
       "2          NaN  demonstrators   O\n",
       "3          NaN           have   O\n",
       "4          NaN        marched   O"
      ]
     },
     "execution_count": 4,
     "metadata": {},
     "output_type": "execute_result"
    }
   ],
   "source": [
    "df.head()"
   ]
  },
  {
   "cell_type": "code",
   "execution_count": 5,
   "metadata": {
    "execution": {
     "iopub.execute_input": "2023-01-12T06:36:17.053316Z",
     "iopub.status.busy": "2023-01-12T06:36:17.052779Z",
     "iopub.status.idle": "2023-01-12T06:36:17.174878Z",
     "shell.execute_reply": "2023-01-12T06:36:17.173879Z",
     "shell.execute_reply.started": "2023-01-12T06:36:17.053274Z"
    }
   },
   "outputs": [],
   "source": [
    "# filling null values with the previous value\n",
    "df.fillna(method='ffill', inplace=True)"
   ]
  },
  {
   "cell_type": "code",
   "execution_count": 6,
   "metadata": {
    "execution": {
     "iopub.execute_input": "2023-01-12T06:36:17.176530Z",
     "iopub.status.busy": "2023-01-12T06:36:17.176179Z",
     "iopub.status.idle": "2023-01-12T06:36:18.001635Z",
     "shell.execute_reply": "2023-01-12T06:36:18.000461Z",
     "shell.execute_reply.started": "2023-01-12T06:36:17.176500Z"
    }
   },
   "outputs": [
    {
     "data": {
      "text/html": [
       "<div>\n",
       "<style scoped>\n",
       "    .dataframe tbody tr th:only-of-type {\n",
       "        vertical-align: middle;\n",
       "    }\n",
       "\n",
       "    .dataframe tbody tr th {\n",
       "        vertical-align: top;\n",
       "    }\n",
       "\n",
       "    .dataframe thead th {\n",
       "        text-align: right;\n",
       "    }\n",
       "</style>\n",
       "<table border=\"1\" class=\"dataframe\">\n",
       "  <thead>\n",
       "    <tr style=\"text-align: right;\">\n",
       "      <th></th>\n",
       "      <th>Word</th>\n",
       "      <th>Tag</th>\n",
       "    </tr>\n",
       "    <tr>\n",
       "      <th>Sentence #</th>\n",
       "      <th></th>\n",
       "      <th></th>\n",
       "    </tr>\n",
       "  </thead>\n",
       "  <tbody>\n",
       "    <tr>\n",
       "      <th>1</th>\n",
       "      <td>Thousands</td>\n",
       "      <td>O</td>\n",
       "    </tr>\n",
       "    <tr>\n",
       "      <th>1</th>\n",
       "      <td>of</td>\n",
       "      <td>O</td>\n",
       "    </tr>\n",
       "    <tr>\n",
       "      <th>1</th>\n",
       "      <td>demonstrators</td>\n",
       "      <td>O</td>\n",
       "    </tr>\n",
       "    <tr>\n",
       "      <th>1</th>\n",
       "      <td>have</td>\n",
       "      <td>O</td>\n",
       "    </tr>\n",
       "    <tr>\n",
       "      <th>1</th>\n",
       "      <td>marched</td>\n",
       "      <td>O</td>\n",
       "    </tr>\n",
       "  </tbody>\n",
       "</table>\n",
       "</div>"
      ],
      "text/plain": [
       "                     Word Tag\n",
       "Sentence #                   \n",
       "1               Thousands   O\n",
       "1                      of   O\n",
       "1           demonstrators   O\n",
       "1                    have   O\n",
       "1                 marched   O"
      ]
     },
     "execution_count": 6,
     "metadata": {},
     "output_type": "execute_result"
    }
   ],
   "source": [
    "df['Sentence #'] = df['Sentence #'].str.replace(\"Sentence: \", \"\").astype(int)\n",
    "df.set_index(\"Sentence #\", inplace=True)\n",
    "df.head()"
   ]
  },
  {
   "cell_type": "code",
   "execution_count": 7,
   "metadata": {
    "execution": {
     "iopub.execute_input": "2023-01-12T06:36:18.003658Z",
     "iopub.status.busy": "2023-01-12T06:36:18.003256Z",
     "iopub.status.idle": "2023-01-12T06:36:18.390018Z",
     "shell.execute_reply": "2023-01-12T06:36:18.389026Z",
     "shell.execute_reply.started": "2023-01-12T06:36:18.003621Z"
    }
   },
   "outputs": [],
   "source": [
    "# Filter the dataframe by sequence length\n",
    "index, length = np.unique(df.index, return_counts=True)\n",
    "\n",
    "b1 = length>15\n",
    "b2 = length<30\n",
    "b = np.logical_and(b1, b2)\n",
    "\n",
    "index = index[b]\n",
    "length = length[b]\n",
    "\n",
    "df = df.loc[index]"
   ]
  },
  {
   "cell_type": "code",
   "execution_count": 8,
   "metadata": {
    "execution": {
     "iopub.execute_input": "2023-01-12T06:36:18.392065Z",
     "iopub.status.busy": "2023-01-12T06:36:18.391627Z",
     "iopub.status.idle": "2023-01-12T06:36:18.713203Z",
     "shell.execute_reply": "2023-01-12T06:36:18.712173Z",
     "shell.execute_reply.started": "2023-01-12T06:36:18.392023Z"
    }
   },
   "outputs": [],
   "source": [
    "# Helper code for train-test split\n",
    "index = np.unique(df.index)\n",
    "\n",
    "train_index, val_index = train_test_split(index, train_size=0.8)\n",
    "\n",
    "df_train = df.loc[train_index]\n",
    "df_val = df.loc[val_index]"
   ]
  },
  {
   "cell_type": "code",
   "execution_count": 9,
   "metadata": {
    "execution": {
     "iopub.execute_input": "2023-01-12T06:36:18.715748Z",
     "iopub.status.busy": "2023-01-12T06:36:18.714788Z",
     "iopub.status.idle": "2023-01-12T06:36:19.474430Z",
     "shell.execute_reply": "2023-01-12T06:36:19.473378Z",
     "shell.execute_reply.started": "2023-01-12T06:36:18.715707Z"
    }
   },
   "outputs": [
    {
     "data": {
      "image/png": "[encoded data removed]",
      "text/plain": [
       "<Figure size 1200x800 with 1 Axes>"
      ]
     },
     "metadata": {},
     "output_type": "display_data"
    }
   ],
   "source": [
    "plt.figure(figsize=(12, 8))\n",
    "plt.hist(df_train['Tag'], log=True)\n",
    "plt.xticks(rotation=45)\n",
    "plt.show()"
   ]
  },
  {
   "cell_type": "markdown",
   "metadata": {},
   "source": [
    "# Transforming the data"
   ]
  },
  {
   "cell_type": "code",
   "execution_count": 10,
   "metadata": {
    "execution": {
     "iopub.execute_input": "2023-01-12T06:36:19.479918Z",
     "iopub.status.busy": "2023-01-12T06:36:19.478806Z",
     "iopub.status.idle": "2023-01-12T06:36:25.282996Z",
     "shell.execute_reply": "2023-01-12T06:36:25.281906Z",
     "shell.execute_reply.started": "2023-01-12T06:36:19.479877Z"
    }
   },
   "outputs": [],
   "source": [
    "df['Sentence'] = df.groupby(\"Sentence #\")['Word'].transform(lambda x: \" \".join(x))\n",
    "df['Tags'] = df.groupby(\"Sentence #\")['Tag'].transform(lambda x: \" \".join(x))"
   ]
  },
  {
   "cell_type": "code",
   "execution_count": 11,
   "metadata": {
    "execution": {
     "iopub.execute_input": "2023-01-12T06:36:25.285067Z",
     "iopub.status.busy": "2023-01-12T06:36:25.284593Z",
     "iopub.status.idle": "2023-01-12T06:36:25.614335Z",
     "shell.execute_reply": "2023-01-12T06:36:25.613230Z",
     "shell.execute_reply.started": "2023-01-12T06:36:25.285028Z"
    }
   },
   "outputs": [
    {
     "data": {
      "text/html": [
       "<div>\n",
       "<style scoped>\n",
       "    .dataframe tbody tr th:only-of-type {\n",
       "        vertical-align: middle;\n",
       "    }\n",
       "\n",
       "    .dataframe tbody tr th {\n",
       "        vertical-align: top;\n",
       "    }\n",
       "\n",
       "    .dataframe thead th {\n",
       "        text-align: right;\n",
       "    }\n",
       "</style>\n",
       "<table border=\"1\" class=\"dataframe\">\n",
       "  <thead>\n",
       "    <tr style=\"text-align: right;\">\n",
       "      <th></th>\n",
       "      <th>Sentence</th>\n",
       "      <th>Tags</th>\n",
       "    </tr>\n",
       "    <tr>\n",
       "      <th>Sentence #</th>\n",
       "      <th></th>\n",
       "      <th></th>\n",
       "    </tr>\n",
       "  </thead>\n",
       "  <tbody>\n",
       "    <tr>\n",
       "      <th>1</th>\n",
       "      <td>Thousands of demonstrators have marched throug...</td>\n",
       "      <td>O O O O O O B-geo O O O O O B-geo O O O O O B-...</td>\n",
       "    </tr>\n",
       "    <tr>\n",
       "      <th>5</th>\n",
       "      <td>The protest comes on the eve of the annual con...</td>\n",
       "      <td>O O O O O O O O O O O B-geo O O B-org I-org O ...</td>\n",
       "    </tr>\n",
       "    <tr>\n",
       "      <th>6</th>\n",
       "      <td>The party is divided over Britain 's participa...</td>\n",
       "      <td>O O O O O B-gpe O O O O B-geo O O O O O O O B-...</td>\n",
       "    </tr>\n",
       "    <tr>\n",
       "      <th>7</th>\n",
       "      <td>The London march came ahead of anti-war protes...</td>\n",
       "      <td>O B-geo O O O O O O O O O O O O B-geo O B-geo ...</td>\n",
       "    </tr>\n",
       "    <tr>\n",
       "      <th>8</th>\n",
       "      <td>The International Atomic Energy Agency is to h...</td>\n",
       "      <td>O B-org I-org I-org I-org O O O O O O O O B-ge...</td>\n",
       "    </tr>\n",
       "  </tbody>\n",
       "</table>\n",
       "</div>"
      ],
      "text/plain": [
       "                                                     Sentence  \\\n",
       "Sentence #                                                      \n",
       "1           Thousands of demonstrators have marched throug...   \n",
       "5           The protest comes on the eve of the annual con...   \n",
       "6           The party is divided over Britain 's participa...   \n",
       "7           The London march came ahead of anti-war protes...   \n",
       "8           The International Atomic Energy Agency is to h...   \n",
       "\n",
       "                                                         Tags  \n",
       "Sentence #                                                     \n",
       "1           O O O O O O B-geo O O O O O B-geo O O O O O B-...  \n",
       "5           O O O O O O O O O O O B-geo O O B-org I-org O ...  \n",
       "6           O O O O O B-gpe O O O O B-geo O O O O O O O B-...  \n",
       "7           O B-geo O O O O O O O O O O O O B-geo O B-geo ...  \n",
       "8           O B-org I-org I-org I-org O O O O O O O O B-ge...  "
      ]
     },
     "execution_count": 11,
     "metadata": {},
     "output_type": "execute_result"
    }
   ],
   "source": [
    "new_df = df[['Sentence', 'Tags']]\n",
    "new_df = new_df.drop_duplicates()\n",
    "new_df.head()"
   ]
  },
  {
   "cell_type": "code",
   "execution_count": 12,
   "metadata": {
    "execution": {
     "iopub.execute_input": "2023-01-12T06:36:25.616372Z",
     "iopub.status.busy": "2023-01-12T06:36:25.615806Z",
     "iopub.status.idle": "2023-01-12T06:36:25.623233Z",
     "shell.execute_reply": "2023-01-12T06:36:25.622028Z",
     "shell.execute_reply.started": "2023-01-12T06:36:25.616333Z"
    }
   },
   "outputs": [],
   "source": [
    "sentences = new_df['Sentence'].to_list()\n",
    "tags = new_df['Tags'].to_list()"
   ]
  },
  {
   "cell_type": "code",
   "execution_count": 13,
   "metadata": {
    "execution": {
     "iopub.execute_input": "2023-01-12T06:36:25.625554Z",
     "iopub.status.busy": "2023-01-12T06:36:25.624543Z",
     "iopub.status.idle": "2023-01-12T06:36:25.633812Z",
     "shell.execute_reply": "2023-01-12T06:36:25.632884Z",
     "shell.execute_reply.started": "2023-01-12T06:36:25.625512Z"
    }
   },
   "outputs": [],
   "source": [
    "# print some sentences and tags\n",
    "def print_sen_tags(sentence, tags):\n",
    "    words = sentence.split()\n",
    "    tags_split = tags.split()\n",
    "    \n",
    "    for i in range(len(words)):\n",
    "        print(\"(\" + words[i] + \" \" + tags_split[i] + \")\", end=\" \")\n",
    "    print()"
   ]
  },
  {
   "cell_type": "code",
   "execution_count": 14,
   "metadata": {
    "execution": {
     "iopub.execute_input": "2023-01-12T06:36:25.635561Z",
     "iopub.status.busy": "2023-01-12T06:36:25.635107Z",
     "iopub.status.idle": "2023-01-12T06:36:25.647399Z",
     "shell.execute_reply": "2023-01-12T06:36:25.646482Z",
     "shell.execute_reply.started": "2023-01-12T06:36:25.635524Z"
    }
   },
   "outputs": [
    {
     "name": "stdout",
     "output_type": "stream",
     "text": [
      "(Thousands O) (of O) (demonstrators O) (have O) (marched O) (through O) (London B-geo) (to O) (protest O) (the O) (war O) (in O) (Iraq B-geo) (and O) (demand O) (the O) (withdrawal O) (of O) (British B-gpe) (troops O) (from O) (that O) (country O) (. O) \n",
      "(The O) (protest O) (comes O) (on O) (the O) (eve O) (of O) (the O) (annual O) (conference O) (of O) (Britain B-geo) ('s O) (ruling O) (Labor B-org) (Party I-org) (in O) (the O) (southern O) (English B-gpe) (seaside O) (resort O) (of O) (Brighton B-geo) (. O) \n",
      "(The O) (party O) (is O) (divided O) (over O) (Britain B-gpe) ('s O) (participation O) (in O) (the O) (Iraq B-geo) (conflict O) (and O) (the O) (continued O) (deployment O) (of O) (8,500 O) (British B-gpe) (troops O) (in O) (that O) (country O) (. O) \n"
     ]
    }
   ],
   "source": [
    "for i in range(3):\n",
    "    print_sen_tags(sentences[i], tags[i])"
   ]
  },
  {
   "cell_type": "markdown",
   "metadata": {},
   "source": [
    "# Tokenizen the sentences and Tags"
   ]
  },
  {
   "cell_type": "code",
   "execution_count": 15,
   "metadata": {
    "execution": {
     "iopub.execute_input": "2023-01-12T06:36:25.649954Z",
     "iopub.status.busy": "2023-01-12T06:36:25.649671Z",
     "iopub.status.idle": "2023-01-12T06:36:25.657653Z",
     "shell.execute_reply": "2023-01-12T06:36:25.656685Z",
     "shell.execute_reply.started": "2023-01-12T06:36:25.649929Z"
    }
   },
   "outputs": [],
   "source": [
    "from tensorflow.keras.preprocessing.text import Tokenizer\n",
    "from tensorflow.keras.preprocessing.sequence import pad_sequences"
   ]
  },
  {
   "cell_type": "code",
   "execution_count": 16,
   "metadata": {
    "execution": {
     "iopub.execute_input": "2023-01-12T06:36:25.659516Z",
     "iopub.status.busy": "2023-01-12T06:36:25.659141Z",
     "iopub.status.idle": "2023-01-12T06:36:25.710012Z",
     "shell.execute_reply": "2023-01-12T06:36:25.708944Z",
     "shell.execute_reply.started": "2023-01-12T06:36:25.659483Z"
    }
   },
   "outputs": [
    {
     "name": "stdout",
     "output_type": "stream",
     "text": [
      "17\n"
     ]
    }
   ],
   "source": [
    "vocab_size = 3000\n",
    "max_length = 30\n",
    "num_classes = df['Tag'].nunique()\n",
    "print(num_classes)\n",
    "\n",
    "sen_tokenizer = Tokenizer(num_words=vocab_size,\n",
    "                          lower=False,\n",
    "                          filters=\"\",\n",
    "                         split=\" \",\n",
    "                         oov_token=\"<OOV>\")\n",
    "tag_tokenizer = Tokenizer(num_words=num_classes+1,\n",
    "                          lower=False,\n",
    "                          filters=\"\",\n",
    "                         split=\" \",\n",
    "                         oov_token=\"<OOV>\")"
   ]
  },
  {
   "cell_type": "code",
   "execution_count": 17,
   "metadata": {
    "execution": {
     "iopub.execute_input": "2023-01-12T06:36:25.712695Z",
     "iopub.status.busy": "2023-01-12T06:36:25.711177Z",
     "iopub.status.idle": "2023-01-12T06:36:26.600860Z",
     "shell.execute_reply": "2023-01-12T06:36:26.599881Z",
     "shell.execute_reply.started": "2023-01-12T06:36:25.712660Z"
    }
   },
   "outputs": [],
   "source": [
    "sen_tokenizer.fit_on_texts(sentences)\n",
    "sen_word_index = sen_tokenizer.word_index\n",
    "\n",
    "tag_tokenizer.fit_on_texts(tags)\n",
    "tag_word_index = tag_tokenizer.word_index"
   ]
  },
  {
   "cell_type": "code",
   "execution_count": 18,
   "metadata": {
    "execution": {
     "iopub.execute_input": "2023-01-12T06:36:26.602939Z",
     "iopub.status.busy": "2023-01-12T06:36:26.602537Z",
     "iopub.status.idle": "2023-01-12T06:36:27.511960Z",
     "shell.execute_reply": "2023-01-12T06:36:27.510934Z",
     "shell.execute_reply.started": "2023-01-12T06:36:26.602900Z"
    }
   },
   "outputs": [],
   "source": [
    "sequences = sen_tokenizer.texts_to_sequences(sentences)\n",
    "tag_sequences = tag_tokenizer.texts_to_sequences(tags)"
   ]
  },
  {
   "cell_type": "code",
   "execution_count": 19,
   "metadata": {
    "execution": {
     "iopub.execute_input": "2023-01-12T06:36:27.513900Z",
     "iopub.status.busy": "2023-01-12T06:36:27.513507Z",
     "iopub.status.idle": "2023-01-12T06:36:27.519868Z",
     "shell.execute_reply": "2023-01-12T06:36:27.518867Z",
     "shell.execute_reply.started": "2023-01-12T06:36:27.513856Z"
    }
   },
   "outputs": [
    {
     "name": "stdout",
     "output_type": "stream",
     "text": [
      "[651, 6, 554, 17, 971, 220, 503, 7, 371, 2, 162, 5, 55, 9, 771, 2, 865, 6, 163, 111, 21, 16, 50, 3]\n",
      "[2, 2, 2, 2, 2, 2, 3, 2, 2, 2, 2, 2, 3, 2, 2, 2, 2, 2, 6, 2, 2, 2, 2, 2]\n",
      "24\n",
      "24\n"
     ]
    }
   ],
   "source": [
    "# printing tokenized sentence and tags\n",
    "print(sequences[0])\n",
    "print(tag_sequences[0])\n",
    "\n",
    "print(len(sequences[0]))\n",
    "print(len(tag_sequences[0]))"
   ]
  },
  {
   "cell_type": "code",
   "execution_count": 20,
   "metadata": {
    "execution": {
     "iopub.execute_input": "2023-01-12T06:36:27.522212Z",
     "iopub.status.busy": "2023-01-12T06:36:27.521457Z",
     "iopub.status.idle": "2023-01-12T06:36:27.540876Z",
     "shell.execute_reply": "2023-01-12T06:36:27.539828Z",
     "shell.execute_reply.started": "2023-01-12T06:36:27.522173Z"
    }
   },
   "outputs": [],
   "source": [
    "new_sen_word_index = dict([(value, key) for key, value in sen_word_index.items()])\n",
    "new_tag_word_index = dict([(value, key) for key, value in tag_word_index.items()])"
   ]
  },
  {
   "cell_type": "markdown",
   "metadata": {},
   "source": [
    "# Add Padding to the sequences"
   ]
  },
  {
   "cell_type": "code",
   "execution_count": 21,
   "metadata": {
    "execution": {
     "iopub.execute_input": "2023-01-12T06:36:27.542856Z",
     "iopub.status.busy": "2023-01-12T06:36:27.542329Z",
     "iopub.status.idle": "2023-01-12T06:36:27.736073Z",
     "shell.execute_reply": "2023-01-12T06:36:27.735184Z",
     "shell.execute_reply.started": "2023-01-12T06:36:27.542807Z"
    }
   },
   "outputs": [],
   "source": [
    "padded_sequences = pad_sequences(sequences, maxlen=max_length, padding='post')\n",
    "padded_tags = pad_sequences(tag_sequences, maxlen=max_length, padding='post')"
   ]
  },
  {
   "cell_type": "code",
   "execution_count": 22,
   "metadata": {
    "execution": {
     "iopub.execute_input": "2023-01-12T06:36:27.738499Z",
     "iopub.status.busy": "2023-01-12T06:36:27.737247Z",
     "iopub.status.idle": "2023-01-12T06:36:27.745323Z",
     "shell.execute_reply": "2023-01-12T06:36:27.744338Z",
     "shell.execute_reply.started": "2023-01-12T06:36:27.738463Z"
    }
   },
   "outputs": [
    {
     "name": "stdout",
     "output_type": "stream",
     "text": [
      "[651   6 554  17 971 220 503   7 371   2 162   5  55   9 771   2 865   6\n",
      " 163 111  21  16  50   3   0   0   0   0   0   0]\n",
      "[2 2 2 2 2 2 3 2 2 2 2 2 3 2 2 2 2 2 6 2 2 2 2 2 0 0 0 0 0 0]\n"
     ]
    }
   ],
   "source": [
    "print(padded_sequences[0])\n",
    "print(padded_tags[0])"
   ]
  },
  {
   "cell_type": "code",
   "execution_count": 23,
   "metadata": {
    "execution": {
     "iopub.execute_input": "2023-01-12T06:36:27.747609Z",
     "iopub.status.busy": "2023-01-12T06:36:27.746530Z",
     "iopub.status.idle": "2023-01-12T06:36:27.758271Z",
     "shell.execute_reply": "2023-01-12T06:36:27.757076Z",
     "shell.execute_reply.started": "2023-01-12T06:36:27.747572Z"
    }
   },
   "outputs": [
    {
     "data": {
      "text/plain": [
       "(2760, 30)"
      ]
     },
     "execution_count": 23,
     "metadata": {},
     "output_type": "execute_result"
    }
   ],
   "source": [
    "padded_sequences.shape"
   ]
  },
  {
   "cell_type": "markdown",
   "metadata": {},
   "source": [
    "# Train test split"
   ]
  },
  {
   "cell_type": "code",
   "execution_count": 48,
   "metadata": {
    "execution": {
     "iopub.execute_input": "2023-01-12T06:36:27.761682Z",
     "iopub.status.busy": "2023-01-12T06:36:27.760896Z",
     "iopub.status.idle": "2023-01-12T06:36:27.767907Z",
     "shell.execute_reply": "2023-01-12T06:36:27.766766Z",
     "shell.execute_reply.started": "2023-01-12T06:36:27.761612Z"
    }
   },
   "outputs": [],
   "source": [
    "training_samples = 0.70\n",
    "validation_samples = 0.15\n",
    "testing_samples = 0.15"
   ]
  },
  {
   "cell_type": "code",
   "execution_count": 49,
   "metadata": {
    "execution": {
     "iopub.execute_input": "2023-01-12T06:36:27.770268Z",
     "iopub.status.busy": "2023-01-12T06:36:27.769819Z",
     "iopub.status.idle": "2023-01-12T06:36:27.778237Z",
     "shell.execute_reply": "2023-01-12T06:36:27.777142Z",
     "shell.execute_reply.started": "2023-01-12T06:36:27.770233Z"
    }
   },
   "outputs": [],
   "source": [
    "indices = np.arange(len(padded_tags))"
   ]
  },
  {
   "cell_type": "code",
   "execution_count": 50,
   "metadata": {
    "execution": {
     "iopub.execute_input": "2023-01-12T06:36:27.781352Z",
     "iopub.status.busy": "2023-01-12T06:36:27.780677Z",
     "iopub.status.idle": "2023-01-12T06:36:27.790170Z",
     "shell.execute_reply": "2023-01-12T06:36:27.789130Z",
     "shell.execute_reply.started": "2023-01-12T06:36:27.781319Z"
    }
   },
   "outputs": [],
   "source": [
    "X_preprocessed = padded_sequences[indices]\n",
    "Y_preprocessed = padded_tags[indices]"
   ]
  },
  {
   "cell_type": "code",
   "execution_count": 51,
   "metadata": {
    "execution": {
     "iopub.execute_input": "2023-01-12T06:36:27.793236Z",
     "iopub.status.busy": "2023-01-12T06:36:27.792483Z",
     "iopub.status.idle": "2023-01-12T06:36:27.803136Z",
     "shell.execute_reply": "2023-01-12T06:36:27.802018Z",
     "shell.execute_reply.started": "2023-01-12T06:36:27.793148Z"
    }
   },
   "outputs": [
    {
     "name": "stdout",
     "output_type": "stream",
     "text": [
      "Number of training examples: 1931\n",
      "Number of validation examples: 415\n",
      "Number of testing examples: 414\n",
      "Total number of examples after shuffling and splitting: 2760\n"
     ]
    }
   ],
   "source": [
    "X_train = X_preprocessed[: int(0.7 * len(X_preprocessed))]\n",
    "print(\"Number of training examples: {}\".format(len(X_train)))\n",
    "\n",
    "\n",
    "X_val = X_preprocessed[int(0.7 * len(X_preprocessed)): int(0.7 * len(X_preprocessed)) + (int(0.15 * len(X_preprocessed)) + 1)]\n",
    "print(\"Number of validation examples: {}\".format(len(X_val)))\n",
    "\n",
    "\n",
    "X_test = X_preprocessed[int(0.7 * len(X_preprocessed)) + (int(0.15 * len(X_preprocessed)) + 1):]\n",
    "print(\"Number of testing examples: {}\".format(len(X_test)))\n",
    "\n",
    "\n",
    "Y_train = Y_preprocessed[: int(0.7 * len(X_preprocessed))]\n",
    "Y_val = Y_preprocessed[int(0.7 * len(X_preprocessed)): int(0.7 * len(X_preprocessed)) + (int(0.15 * len(X_preprocessed)) + 1)]\n",
    "Y_test = Y_preprocessed[int(0.7 * len(X_preprocessed)) + (int(0.15 * len(X_preprocessed)) + 1):]\n",
    "\n",
    "print(\"Total number of examples after shuffling and splitting: {}\".format(len(X_train) + len(X_val) + len(X_test)))"
   ]
  },
  {
   "cell_type": "markdown",
   "metadata": {},
   "source": [
    "# Modelling"
   ]
  },
  {
   "cell_type": "markdown",
   "metadata": {},
   "source": [
    "## Utility function for plotting training"
   ]
  },
  {
   "cell_type": "code",
   "execution_count": 63,
   "metadata": {
    "execution": {
     "iopub.execute_input": "2023-01-12T06:36:27.809877Z",
     "iopub.status.busy": "2023-01-12T06:36:27.808747Z",
     "iopub.status.idle": "2023-01-12T06:36:27.821986Z",
     "shell.execute_reply": "2023-01-12T06:36:27.821012Z",
     "shell.execute_reply.started": "2023-01-12T06:36:27.809838Z"
    }
   },
   "outputs": [],
   "source": [
    "def plot_model_curves(history):\n",
    "    acc = history.history['accuracy']\n",
    "    val_acc = history.history['val_accuracy']\n",
    "\n",
    "    loss = history.history['loss']\n",
    "    val_loss = history.history['val_loss']\n",
    "\n",
    "    epochs = range(1, len(acc) + 1)\n",
    "\n",
    "    fig, ax = plt.subplots(1, 2, figsize=(10, 4), dpi=80)\n",
    "\n",
    "    ax[0].plot(epochs, acc, label = \"Training Accuracy\", color='darkblue')\n",
    "    ax[0].plot(epochs, val_acc, label = \"Validation Accuracy\", color='darkgreen')\n",
    "    ax[0].grid(alpha=0.3)\n",
    "    ax[0].title.set_text('Training Vs Validation Accuracy')\n",
    "    plt.setp(ax[0], xlabel='Epochs')\n",
    "    plt.setp(ax[0], ylabel='Accuracy')\n",
    "\n",
    "    ax[0].legend(loc=0)\n",
    "\n",
    "    ax[1].plot(epochs, loss, label = \"Training Loss\", color='darkblue')\n",
    "    ax[1].plot(epochs, val_loss, label = \"Validation Loss\", color='darkgreen')\n",
    "    ax[1].grid(alpha=0.3)\n",
    "    ax[1].title.set_text('Training Vs Validation Loss')\n",
    "    plt.setp(ax[1], xlabel='Epochs')\n",
    "    plt.setp(ax[1], ylabel='Loss')\n",
    "    \n",
    "    ax[1].legend(loc=0)\n",
    "\n",
    "    plt.show()\n",
    "\n",
    "def run_model(model, epochs=30):\n",
    "    model.summary()\n",
    "    model.compile(loss=\"sparse_categorical_crossentropy\", optimizer='adam', metrics=['accuracy'])\n",
    "    history = model.fit(X_train, Y_train, epochs=epochs, validation_data=(X_val, Y_val))\n",
    "    loss, accuracy = model.evaluate(X_test, Y_test, verbose=0)\n",
    "    accuracies.append(accuracy)\n",
    "    #print(\"Accuracy on test data is \" + str(np.round(accuracy*100, 2)) + \"%\")\n",
    "    plot_model_curves(history)\n",
    "\n",
    "accuracies = []"
   ]
  },
  {
   "cell_type": "markdown",
   "metadata": {},
   "source": [
    "## Single layer RNN"
   ]
  },
  {
   "cell_type": "code",
   "execution_count": 64,
   "metadata": {
    "execution": {
     "iopub.execute_input": "2023-01-12T06:36:49.615068Z",
     "iopub.status.busy": "2023-01-12T06:36:49.614223Z",
     "iopub.status.idle": "2023-01-12T06:39:39.735302Z",
     "shell.execute_reply": "2023-01-12T06:39:39.734343Z",
     "shell.execute_reply.started": "2023-01-12T06:36:49.615033Z"
    },
    "scrolled": false
   },
   "outputs": [
    {
     "name": "stdout",
     "output_type": "stream",
     "text": [
      "Model: \"sequential_14\"\n",
      "_________________________________________________________________\n",
      " Layer (type)                Output Shape              Param #   \n",
      "=================================================================\n",
      " embedding_14 (Embedding)    (None, 30, 32)            96000     \n",
      "                                                                 \n",
      " simple_rnn_19 (SimpleRNN)   (None, 30, 8)             328       \n",
      "                                                                 \n",
      " time_distributed_14 (TimeDi  (None, 30, 18)           162       \n",
      " stributed)                                                      \n",
      "                                                                 \n",
      "=================================================================\n",
      "Total params: 96,490\n",
      "Trainable params: 96,490\n",
      "Non-trainable params: 0\n",
      "_________________________________________________________________\n",
      "Epoch 1/30\n",
      "61/61 [==============================] - 6s 34ms/step - loss: 2.5536 - accuracy: 0.3969 - val_loss: 2.0299 - val_accuracy: 0.8377\n",
      "Epoch 2/30\n",
      "61/61 [==============================] - 1s 20ms/step - loss: 1.5225 - accuracy: 0.8483 - val_loss: 1.1731 - val_accuracy: 0.8379\n",
      "Epoch 3/30\n",
      "61/61 [==============================] - 1s 20ms/step - loss: 0.9829 - accuracy: 0.8487 - val_loss: 0.9102 - val_accuracy: 0.8392\n",
      "Epoch 4/30\n",
      "61/61 [==============================] - 1s 20ms/step - loss: 0.8121 - accuracy: 0.8494 - val_loss: 0.8057 - val_accuracy: 0.8392\n",
      "Epoch 5/30\n",
      "61/61 [==============================] - 1s 20ms/step - loss: 0.7189 - accuracy: 0.8516 - val_loss: 0.7331 - val_accuracy: 0.8407\n",
      "Epoch 6/30\n",
      "61/61 [==============================] - 1s 20ms/step - loss: 0.6469 - accuracy: 0.8583 - val_loss: 0.6713 - val_accuracy: 0.8484\n",
      "Epoch 7/30\n",
      "61/61 [==============================] - 1s 20ms/step - loss: 0.5859 - accuracy: 0.8650 - val_loss: 0.6196 - val_accuracy: 0.8555\n",
      "Epoch 8/30\n",
      "61/61 [==============================] - 1s 22ms/step - loss: 0.5367 - accuracy: 0.8781 - val_loss: 0.5794 - val_accuracy: 0.8698\n",
      "Epoch 9/30\n",
      "61/61 [==============================] - 1s 21ms/step - loss: 0.4984 - accuracy: 0.8870 - val_loss: 0.5478 - val_accuracy: 0.8738\n",
      "Epoch 10/30\n",
      "61/61 [==============================] - 1s 21ms/step - loss: 0.4685 - accuracy: 0.8897 - val_loss: 0.5233 - val_accuracy: 0.8822\n",
      "Epoch 11/30\n",
      "61/61 [==============================] - 1s 20ms/step - loss: 0.4444 - accuracy: 0.8933 - val_loss: 0.5046 - val_accuracy: 0.8835\n",
      "Epoch 12/30\n",
      "61/61 [==============================] - 1s 20ms/step - loss: 0.4240 - accuracy: 0.8959 - val_loss: 0.4860 - val_accuracy: 0.8858\n",
      "Epoch 13/30\n",
      "61/61 [==============================] - 1s 20ms/step - loss: 0.4055 - accuracy: 0.8995 - val_loss: 0.4712 - val_accuracy: 0.8889\n",
      "Epoch 14/30\n",
      "61/61 [==============================] - 1s 20ms/step - loss: 0.3884 - accuracy: 0.9039 - val_loss: 0.4557 - val_accuracy: 0.8912\n",
      "Epoch 15/30\n",
      "61/61 [==============================] - 1s 20ms/step - loss: 0.3706 - accuracy: 0.9085 - val_loss: 0.4398 - val_accuracy: 0.8929\n",
      "Epoch 16/30\n",
      "61/61 [==============================] - 1s 21ms/step - loss: 0.3524 - accuracy: 0.9122 - val_loss: 0.4267 - val_accuracy: 0.8966\n",
      "Epoch 17/30\n",
      "61/61 [==============================] - 1s 21ms/step - loss: 0.3352 - accuracy: 0.9169 - val_loss: 0.4150 - val_accuracy: 0.8988\n",
      "Epoch 18/30\n",
      "61/61 [==============================] - 1s 20ms/step - loss: 0.3197 - accuracy: 0.9215 - val_loss: 0.4044 - val_accuracy: 0.9024\n",
      "Epoch 19/30\n",
      "61/61 [==============================] - 1s 20ms/step - loss: 0.3045 - accuracy: 0.9263 - val_loss: 0.3949 - val_accuracy: 0.9050\n",
      "Epoch 20/30\n",
      "61/61 [==============================] - 1s 20ms/step - loss: 0.2905 - accuracy: 0.9325 - val_loss: 0.3869 - val_accuracy: 0.9087\n",
      "Epoch 21/30\n",
      "61/61 [==============================] - 1s 21ms/step - loss: 0.2777 - accuracy: 0.9374 - val_loss: 0.3789 - val_accuracy: 0.9106\n",
      "Epoch 22/30\n",
      "61/61 [==============================] - 1s 20ms/step - loss: 0.2660 - accuracy: 0.9403 - val_loss: 0.3718 - val_accuracy: 0.9119\n",
      "Epoch 23/30\n",
      "61/61 [==============================] - 1s 20ms/step - loss: 0.2560 - accuracy: 0.9425 - val_loss: 0.3664 - val_accuracy: 0.9137\n",
      "Epoch 24/30\n",
      "61/61 [==============================] - 1s 20ms/step - loss: 0.2461 - accuracy: 0.9443 - val_loss: 0.3614 - val_accuracy: 0.9140\n",
      "Epoch 25/30\n",
      "61/61 [==============================] - 1s 20ms/step - loss: 0.2375 - accuracy: 0.9455 - val_loss: 0.3566 - val_accuracy: 0.9144\n",
      "Epoch 26/30\n",
      "61/61 [==============================] - 1s 20ms/step - loss: 0.2294 - accuracy: 0.9468 - val_loss: 0.3531 - val_accuracy: 0.9140\n",
      "Epoch 27/30\n",
      "61/61 [==============================] - 1s 20ms/step - loss: 0.2224 - accuracy: 0.9478 - val_loss: 0.3498 - val_accuracy: 0.9145\n",
      "Epoch 28/30\n",
      "61/61 [==============================] - 1s 20ms/step - loss: 0.2161 - accuracy: 0.9491 - val_loss: 0.3472 - val_accuracy: 0.9168\n",
      "Epoch 29/30\n",
      "61/61 [==============================] - 1s 20ms/step - loss: 0.2103 - accuracy: 0.9498 - val_loss: 0.3459 - val_accuracy: 0.9154\n",
      "Epoch 30/30\n",
      "61/61 [==============================] - 1s 20ms/step - loss: 0.2050 - accuracy: 0.9507 - val_loss: 0.3440 - val_accuracy: 0.9165\n"
     ]
    },
    {
     "data": {
      "image/png": "[encoded data removed]",
      "text/plain": [
       "<Figure size 800x320 with 2 Axes>"
      ]
     },
     "metadata": {},
     "output_type": "display_data"
    }
   ],
   "source": [
    "model1 = tf.keras.Sequential([\n",
    "    tf.keras.layers.Embedding(vocab_size, 32, mask_zero=True, input_length=30),\n",
    "    tf.keras.layers.SimpleRNN(8, return_sequences=True),\n",
    "    tf.keras.layers.TimeDistributed(tf.keras.layers.Dense(num_classes+1, activation='softmax'))\n",
    "])\n",
    "\n",
    "run_model(model1)"
   ]
  },
  {
   "cell_type": "markdown",
   "metadata": {},
   "source": [
    "## Multi layer RNN"
   ]
  },
  {
   "cell_type": "code",
   "execution_count": 65,
   "metadata": {
    "execution": {
     "iopub.execute_input": "2023-01-12T06:39:39.738468Z",
     "iopub.status.busy": "2023-01-12T06:39:39.737380Z",
     "iopub.status.idle": "2023-01-12T06:44:59.200570Z",
     "shell.execute_reply": "2023-01-12T06:44:59.199680Z",
     "shell.execute_reply.started": "2023-01-12T06:39:39.738413Z"
    },
    "scrolled": false
   },
   "outputs": [
    {
     "name": "stdout",
     "output_type": "stream",
     "text": [
      "Model: \"sequential_15\"\n",
      "_________________________________________________________________\n",
      " Layer (type)                Output Shape              Param #   \n",
      "=================================================================\n",
      " embedding_15 (Embedding)    (None, 30, 16)            48000     \n",
      "                                                                 \n",
      " simple_rnn_20 (SimpleRNN)   (None, 30, 8)             200       \n",
      "                                                                 \n",
      " simple_rnn_21 (SimpleRNN)   (None, 30, 8)             136       \n",
      "                                                                 \n",
      " time_distributed_15 (TimeDi  (None, 30, 18)           162       \n",
      " stributed)                                                      \n",
      "                                                                 \n",
      "=================================================================\n",
      "Total params: 48,498\n",
      "Trainable params: 48,498\n",
      "Non-trainable params: 0\n",
      "_________________________________________________________________\n",
      "Epoch 1/30\n",
      "61/61 [==============================] - 9s 52ms/step - loss: 2.4032 - accuracy: 0.5047 - val_loss: 1.8158 - val_accuracy: 0.8377\n",
      "Epoch 2/30\n",
      "61/61 [==============================] - 2s 32ms/step - loss: 1.4312 - accuracy: 0.8482 - val_loss: 1.1763 - val_accuracy: 0.8377\n",
      "Epoch 3/30\n",
      "61/61 [==============================] - 2s 33ms/step - loss: 1.0154 - accuracy: 0.8482 - val_loss: 0.9667 - val_accuracy: 0.8377\n",
      "Epoch 4/30\n",
      "61/61 [==============================] - 2s 32ms/step - loss: 0.8832 - accuracy: 0.8482 - val_loss: 0.8937 - val_accuracy: 0.8372\n",
      "Epoch 5/30\n",
      "61/61 [==============================] - 2s 32ms/step - loss: 0.8279 - accuracy: 0.8481 - val_loss: 0.8556 - val_accuracy: 0.8377\n",
      "Epoch 6/30\n",
      "61/61 [==============================] - 2s 31ms/step - loss: 0.7982 - accuracy: 0.8482 - val_loss: 0.8343 - val_accuracy: 0.8377\n",
      "Epoch 7/30\n",
      "61/61 [==============================] - 2s 31ms/step - loss: 0.7797 - accuracy: 0.8485 - val_loss: 0.8204 - val_accuracy: 0.8378\n",
      "Epoch 8/30\n",
      "61/61 [==============================] - 2s 32ms/step - loss: 0.7663 - accuracy: 0.8486 - val_loss: 0.8103 - val_accuracy: 0.8376\n",
      "Epoch 9/30\n",
      "61/61 [==============================] - 2s 32ms/step - loss: 0.7575 - accuracy: 0.8485 - val_loss: 0.8020 - val_accuracy: 0.8379\n",
      "Epoch 10/30\n",
      "61/61 [==============================] - 2s 31ms/step - loss: 0.7503 - accuracy: 0.8485 - val_loss: 0.7952 - val_accuracy: 0.8381\n",
      "Epoch 11/30\n",
      "61/61 [==============================] - 2s 31ms/step - loss: 0.7392 - accuracy: 0.8488 - val_loss: 0.7793 - val_accuracy: 0.8384\n",
      "Epoch 12/30\n",
      "61/61 [==============================] - 2s 32ms/step - loss: 0.7093 - accuracy: 0.8498 - val_loss: 0.7394 - val_accuracy: 0.8395\n",
      "Epoch 13/30\n",
      "61/61 [==============================] - 2s 33ms/step - loss: 0.6475 - accuracy: 0.8546 - val_loss: 0.6714 - val_accuracy: 0.8445\n",
      "Epoch 14/30\n",
      "61/61 [==============================] - 2s 32ms/step - loss: 0.5627 - accuracy: 0.8649 - val_loss: 0.5996 - val_accuracy: 0.8504\n",
      "Epoch 15/30\n",
      "61/61 [==============================] - 2s 33ms/step - loss: 0.4897 - accuracy: 0.8780 - val_loss: 0.5467 - val_accuracy: 0.8612\n",
      "Epoch 16/30\n",
      "61/61 [==============================] - 2s 33ms/step - loss: 0.4355 - accuracy: 0.8941 - val_loss: 0.5110 - val_accuracy: 0.8760\n",
      "Epoch 17/30\n",
      "61/61 [==============================] - 2s 31ms/step - loss: 0.3951 - accuracy: 0.9068 - val_loss: 0.4828 - val_accuracy: 0.8862\n",
      "Epoch 18/30\n",
      "61/61 [==============================] - 2s 32ms/step - loss: 0.3625 - accuracy: 0.9157 - val_loss: 0.4622 - val_accuracy: 0.8924\n",
      "Epoch 19/30\n",
      "61/61 [==============================] - 2s 32ms/step - loss: 0.3352 - accuracy: 0.9200 - val_loss: 0.4464 - val_accuracy: 0.8954\n",
      "Epoch 20/30\n",
      "61/61 [==============================] - 2s 32ms/step - loss: 0.3127 - accuracy: 0.9240 - val_loss: 0.4359 - val_accuracy: 0.8964\n",
      "Epoch 21/30\n",
      "61/61 [==============================] - 2s 32ms/step - loss: 0.2930 - accuracy: 0.9280 - val_loss: 0.4271 - val_accuracy: 0.8990\n",
      "Epoch 22/30\n",
      "61/61 [==============================] - 2s 32ms/step - loss: 0.2763 - accuracy: 0.9309 - val_loss: 0.4217 - val_accuracy: 0.8986\n",
      "Epoch 23/30\n",
      "61/61 [==============================] - 2s 31ms/step - loss: 0.2597 - accuracy: 0.9342 - val_loss: 0.4178 - val_accuracy: 0.8989\n",
      "Epoch 24/30\n",
      "61/61 [==============================] - 2s 32ms/step - loss: 0.2451 - accuracy: 0.9385 - val_loss: 0.4139 - val_accuracy: 0.9012\n",
      "Epoch 25/30\n",
      "61/61 [==============================] - 2s 30ms/step - loss: 0.2318 - accuracy: 0.9421 - val_loss: 0.4145 - val_accuracy: 0.9023\n",
      "Epoch 26/30\n",
      "61/61 [==============================] - 2s 30ms/step - loss: 0.2196 - accuracy: 0.9470 - val_loss: 0.4129 - val_accuracy: 0.9043\n",
      "Epoch 27/30\n",
      "61/61 [==============================] - 2s 31ms/step - loss: 0.2077 - accuracy: 0.9505 - val_loss: 0.4141 - val_accuracy: 0.9056\n",
      "Epoch 28/30\n",
      "61/61 [==============================] - 2s 32ms/step - loss: 0.1978 - accuracy: 0.9538 - val_loss: 0.4165 - val_accuracy: 0.9062\n",
      "Epoch 29/30\n",
      "61/61 [==============================] - 2s 32ms/step - loss: 0.1884 - accuracy: 0.9565 - val_loss: 0.4185 - val_accuracy: 0.9072\n",
      "Epoch 30/30\n",
      "61/61 [==============================] - 2s 31ms/step - loss: 0.1786 - accuracy: 0.9602 - val_loss: 0.4214 - val_accuracy: 0.9077\n"
     ]
    },
    {
     "data": {
      "image/png": "[encoded data removed]",
      "text/plain": [
       "<Figure size 800x320 with 2 Axes>"
      ]
     },
     "metadata": {},
     "output_type": "display_data"
    }
   ],
   "source": [
    "model2 = tf.keras.Sequential([\n",
    "    tf.keras.layers.Embedding(vocab_size, 16, mask_zero=True, input_length=30),\n",
    "    tf.keras.layers.SimpleRNN(8, return_sequences=True),\n",
    "    tf.keras.layers.SimpleRNN(8, return_sequences=True),\n",
    "    tf.keras.layers.TimeDistributed(tf.keras.layers.Dense(num_classes+1, activation='softmax'))\n",
    "])\n",
    "\n",
    "run_model(model2)"
   ]
  },
  {
   "cell_type": "code",
   "execution_count": 62,
   "metadata": {
    "execution": {
     "iopub.execute_input": "2023-01-12T06:50:01.365296Z",
     "iopub.status.busy": "2023-01-12T06:50:01.364942Z",
     "iopub.status.idle": "2023-01-12T06:50:01.372240Z",
     "shell.execute_reply": "2023-01-12T06:50:01.371117Z",
     "shell.execute_reply.started": "2023-01-12T06:50:01.365266Z"
    }
   },
   "outputs": [
    {
     "data": {
      "text/plain": [
       "[0.9208523631095886, 0.9011741876602173]"
      ]
     },
     "execution_count": 62,
     "metadata": {},
     "output_type": "execute_result"
    }
   ],
   "source": [
    "accuracies"
   ]
  },
  {
   "cell_type": "markdown",
   "metadata": {},
   "source": [
    "# Predictions"
   ]
  },
  {
   "cell_type": "code",
   "execution_count": 32,
   "metadata": {
    "execution": {
     "iopub.execute_input": "2023-01-12T06:50:06.252640Z",
     "iopub.status.busy": "2023-01-12T06:50:06.252262Z",
     "iopub.status.idle": "2023-01-12T06:50:07.107231Z",
     "shell.execute_reply": "2023-01-12T06:50:07.106233Z",
     "shell.execute_reply.started": "2023-01-12T06:50:06.252609Z"
    }
   },
   "outputs": [],
   "source": [
    "test_pred = model1.predict(X_test, verbose=0)"
   ]
  },
  {
   "cell_type": "code",
   "execution_count": 33,
   "metadata": {
    "execution": {
     "iopub.execute_input": "2023-01-12T06:50:11.444828Z",
     "iopub.status.busy": "2023-01-12T06:50:11.444468Z",
     "iopub.status.idle": "2023-01-12T06:50:11.452879Z",
     "shell.execute_reply": "2023-01-12T06:50:11.451896Z",
     "shell.execute_reply.started": "2023-01-12T06:50:11.444796Z"
    }
   },
   "outputs": [],
   "source": [
    "test_pred = test_pred.argmax(axis=-1)"
   ]
  },
  {
   "cell_type": "code",
   "execution_count": 36,
   "metadata": {
    "execution": {
     "iopub.execute_input": "2023-01-12T06:50:13.235064Z",
     "iopub.status.busy": "2023-01-12T06:50:13.234408Z",
     "iopub.status.idle": "2023-01-12T06:50:13.243313Z",
     "shell.execute_reply": "2023-01-12T06:50:13.241991Z",
     "shell.execute_reply.started": "2023-01-12T06:50:13.235030Z"
    }
   },
   "outputs": [],
   "source": [
    "def predict_sentences(idx):\n",
    "    sentence = \"\"\n",
    "    for index in X_test[idx]:\n",
    "        if index==0:\n",
    "            sentence += \"P\"\n",
    "        else:\n",
    "            sentence += new_sen_word_index[index]\n",
    "        sentence += \" \"\n",
    "\n",
    "    tag = \"\"\n",
    "    for index in Y_test[idx]:\n",
    "        if index==0:\n",
    "            tag += \"P\"\n",
    "        else:\n",
    "            tag += new_tag_word_index[index]\n",
    "        tag += \" \"\n",
    "\n",
    "    predicted_tag = \"\"\n",
    "    for index in test_pred[idx]:\n",
    "        if index==0:\n",
    "            predicted_tag += \"P\"\n",
    "        else:\n",
    "            predicted_tag += new_tag_word_index[index]\n",
    "        predicted_tag += \" \"\n",
    "    print(\"Test sentence:\", end=\" \")\n",
    "    print(sentence)\n",
    "    print(\"Original tags:\", end=\" \")\n",
    "    print(tag)\n",
    "    print(\"Predicted tags:\", end=\" \")\n",
    "    print(predicted_tag)"
   ]
  },
  {
   "cell_type": "code",
   "execution_count": 37,
   "metadata": {
    "execution": {
     "iopub.execute_input": "2023-01-12T06:50:14.525113Z",
     "iopub.status.busy": "2023-01-12T06:50:14.524390Z",
     "iopub.status.idle": "2023-01-12T06:50:14.532989Z",
     "shell.execute_reply": "2023-01-12T06:50:14.531653Z",
     "shell.execute_reply.started": "2023-01-12T06:50:14.525078Z"
    }
   },
   "outputs": [
    {
     "name": "stdout",
     "output_type": "stream",
     "text": [
      "Test sentence: <OOV> Iranian news reports say parliament has rejected President Mahmoud Ahmadinejad 's third nominee for the post of oil minister . P P P P P P P P P \n",
      "Original tags: O B-gpe O O O O O O B-per I-per I-per O O O O O O O O O O P P P P P P P P P \n",
      "Predicted tags: O B-gpe O O O O O O B-per I-per I-per O O O O O O O O O O O O O O O O O O O \n",
      "\n",
      "4\n",
      "Test sentence: The president 's first nominee for the post , Ali <OOV> was rejected in August by lawmakers who said he was not <OOV> . P P P P P P \n",
      "Original tags: O O O O O O O O O B-per I-per O O O B-tim O O O O O O O O O P P P P P P \n",
      "Predicted tags: O O O O O O O O O B-per I-per O O O B-tim O O O O O O O O O O O O O O O \n",
      "\n",
      "5\n",
      "Test sentence: The ministry is currently being run by a deputy oil minister under former President Mohammed Khatami . P P P P P P P P P P P P P \n",
      "Original tags: O O O O O O O O O O O O O B-per I-per I-per O P P P P P P P P P P P P P \n",
      "Predicted tags: O O O O O O O O O O O O O B-per B-per I-per O O O O O O O O O O O O O O \n",
      "\n",
      "6\n",
      "Test sentence: Trade union chief <OOV> Peretz won a vote among <OOV> <OOV> Labor Party members Thursday . P P P P P P P P P P P P P P \n",
      "Original tags: O O O B-per I-per O O O O O O O O O B-tim O P P P P P P P P P P P P P P \n",
      "Predicted tags: I-org O O B-per I-per O O O O O O O I-org O B-tim O O O O O O O O O O O O O O O \n",
      "\n",
      "7\n"
     ]
    }
   ],
   "source": [
    "for i in range(4,8):\n",
    "    predict_sentences(i)\n",
    "    print(\"\")\n",
    "    print(i)"
   ]
  },
  {
   "cell_type": "code",
   "execution_count": null,
   "metadata": {},
   "outputs": [],
   "source": []
  },
  {
   "cell_type": "code",
   "execution_count": null,
   "metadata": {},
   "outputs": [],
   "source": []
  }
 ],
 "metadata": {
  "kernelspec": {
   "display_name": "Python 3 (ipykernel)",
   "language": "python",
   "name": "python3"
  },
  "language_info": {
   "codemirror_mode": {
    "name": "ipython",
    "version": 3
   },
   "file_extension": ".py",
   "mimetype": "text/x-python",
   "name": "python",
   "nbconvert_exporter": "python",
   "pygments_lexer": "ipython3",
   "version": "3.9.12"
  }
 },
 "nbformat": 4,
 "nbformat_minor": 4
}
